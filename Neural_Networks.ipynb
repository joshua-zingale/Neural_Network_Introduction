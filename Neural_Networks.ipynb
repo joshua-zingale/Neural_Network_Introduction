{
  "nbformat": 4,
  "nbformat_minor": 0,
  "metadata": {
    "colab": {
      "name": "Nerual_Networks.ipynb",
      "provenance": [],
      "collapsed_sections": [
        "10kMI4DKEuoT",
        "84-3YNojDi4a"
      ],
      "authorship_tag": "ABX9TyMDfk15cu4MOoFu3FBoH5zV",
      "include_colab_link": true
    },
    "kernelspec": {
      "name": "python3",
      "display_name": "Python 3"
    }
  },
  "cells": [
    {
      "cell_type": "markdown",
      "metadata": {
        "id": "view-in-github",
        "colab_type": "text"
      },
      "source": [
        "<a href=\"https://colab.research.google.com/github/AgentWombat/Neural_Network_Introduction/blob/main/Nerual_Networks.ipynb\" target=\"_parent\"><img src=\"https://colab.research.google.com/assets/colab-badge.svg\" alt=\"Open In Colab\"/></a>"
      ]
    },
    {
      "cell_type": "markdown",
      "metadata": {
        "id": "10kMI4DKEuoT"
      },
      "source": [
        "# What is a Neural Network?\r\n",
        "\r\n",
        "\r\n",
        "\r\n"
      ]
    },
    {
      "cell_type": "markdown",
      "metadata": {
        "id": "3DW1EtkUCz_E"
      },
      "source": [
        "From pathmind.com:\r\n",
        "\r\n",
        ">\"*Neural networks are a set of algorithms, modeled loosely after the human brain, that are designed to recognize patterns. They interpret sensory data through a kind of machine perception, labeling or clustering raw input. The patterns they recognize are numerical, contained in vectors, into which all real-world data, be it images, sound, text or time series, must be translated.*\r\n",
        "\r\n",
        "\r\n",
        "\r\n",
        "\r\n",
        "\r\n",
        "\r\n",
        "---\r\n",
        "\r\n",
        "\r\n",
        "**But what does that mean?**\r\n",
        "\r\n",
        "The above definition is describing NNs in a very abstract sense. It does not comment on how an NN is implemented. Re-worded, the definition might be \"Neural networks map quantifications of inputs to useful quantifications of outputs.\"\r\n",
        "\r\n",
        "An estute reader might think, \"Wait just a minute. Is that not what a function does?\" And the reader would be correct! An NN is just that: a function.\r\n",
        "\r\n",
        "\r\n",
        "---\r\n",
        "\r\n",
        "\r\n",
        "**Functions**\r\n",
        "\r\n",
        "Let us say I want a program that will give me the successor to any natural number. A user will input a word, say \"one\", and recieve the word which is its successor, in this case \"two\". I could try and manually account for each case,\r\n",
        "\r\n",
        "```\r\n",
        "if input == \"one\":\r\n",
        "  return \"two\"\r\n",
        "else if input == \"two\":\r\n",
        "  return \"three\"\r\n",
        "else if...\r\n",
        "```\r\n",
        "\r\n",
        "\r\n",
        "but the inefficiency of this method is obvious with the set of natural numbers having no upper bound.\r\n",
        "\r\n",
        "Instead, I should quantify my inputs, allowing me to utilize the mathematical structure behind the set of words-representing-natural-numbers. While I can not add words together, I can add the integer values of words together. I can use a helper function which takes an english expansion of a natural number and converts it to its related integer:\r\n",
        "\r\n",
        "\r\n",
        "```\r\n",
        "#function to quantify an english word\r\n",
        "def quantify(word):\r\n",
        "  some implementation of english rules\r\n",
        "  ...\r\n",
        "\r\n",
        "#example input\r\n",
        "quantify(\"one-hundred-and-twenty-five\") -> 125\r\n",
        "\r\n",
        "#function to convert back an english word\r\n",
        "def dequantify(word):\r\n",
        "  some implementation of english rules\r\n",
        "  ...\r\n",
        "\r\n",
        "#example input\r\n",
        "dequantify(14) -> \"fourteen\"\r\n",
        "\r\n",
        "```\r\n",
        "From there, I can decipher the mathematical relationship between the quantification of an english word for a number and that of its successor.\r\n",
        "\r\n",
        "To determine the pattern of numbers their successors I consider some examples: 1 -> 2, 5 -> 6, 13 -> 14... After some observation, I devise the following function successor(x) = x+1 to map a number to its successor.\r\n",
        "\r\n",
        "Putting the pieces together, and for the purpose of creating a program to return the english word representing the successor of an english word representing a natural number, \r\n",
        "\r\n",
        "\r\n",
        "`output = dequantify(successor(quantify(input)))`.\r\n",
        "\r\n",
        "The important thing is that mathematical functions, like my successor function, can not operate on objects, only on quantifications thereof.\r\n",
        "\r\n",
        "Now, how does this relate to NNs?\r\n",
        "\r\n",
        "\r\n",
        "---\r\n",
        "\r\n",
        "\r\n",
        "**Neural Networks**\r\n",
        "\r\n",
        "As said up front, NNs are just functions.  So, like functions, NNs require quantification of inputs and then dequantification of the NN's output to get back an intended output. What differentiates an NN from a function is the method by which the mapping is determined.\r\n",
        "\r\n",
        "Going back to when I was trying to determine the mapping from a number to its successor, I used my mental faculties to observe examples I knew (1 -> 2, 5 -> 6, 13 -> 14...) to devise successor(x) = x + 1. But what if I wanted the computer to determine that for itself?\r\n",
        "\r\n",
        "Just as I analysed examples to determine the mathematic structure of my data, so can a computer achieve this with *machine learning*.\r\n",
        "\r\n",
        ">*A neural network is a function that was determined through the process of machine learning.*\r\n",
        "\r\n",
        "Neural networks are, mathematically, the composition of functions (which is still just a function). Fine tuning these functions with machine learning can result in a desired result. A usefull conceptualisation of Nueral networks is as nodes on a graph (adding to the analogy of neurons in a biological structure).\r\n",
        "\r\n",
        "\r\n",
        "![picture](https://drive.google.com/uc?id=1k3afuA-CzV41jSFHdz8PqnSoF2NGEqae)\r\n",
        "\r\n",
        "Lets say the above structure represents the neural network that will determine the sucessor of a number. It has two nodes (circles) and one connection (the line between the nodes). The first node represents the input to the neural network. For our case, it will hold the value of a natural number 1,2,3,4... The output will be the successor to the input natural number. The connection is where the input will be mapped to the output using some math function.\r\n",
        "\r\n",
        "It could also be drawn like this:\r\n",
        "\r\n",
        "![picture](https://drive.google.com/uc?id=1C4mWPrc4U8rIYwlcTD8llizMuya-c8UB)\r\n",
        "\r\n",
        "Because I already know how to get the successor of a number, I could set the mapping from the input node to the ouput node to f(x) = x + 1. This would lead to the neural network working as intended. The input starts in the input node, gets mapped to the ouput in the connection with the function f(x) = x + 1, and then is returned through the output node.\r\n",
        "\r\n",
        "To use machine learning to determine this function f, I instead define a more general function. I can determine my general function by making an educated guess for the form of my final function. For my successor function, I presume it takes on an affine shape (i.e. f(x) = mx + b). After picking a general form, I initialize my parameters (m and b in this case) to some random values (or perhaps guesses at the correct values). \r\n",
        "\r\n",
        "Let m = 3 and b = 0 => f(x) = 3x + 0\r\n",
        "\r\n",
        "Using this function in my NN leads to the following results:\r\n",
        "\r\n",
        "![picture](https://drive.google.com/uc?id=1v545yBTmpjbzatVEWhXo92SZgagFPAxA)\r\n",
        "\r\n",
        "My NN did not work very well. Aside from the first prediction, every prediction is above what it should be (and it is getting worse and worse). To quantify exactly how bad it performed, I can choose a method of computing the cost of my NN's state. The cost is a measurement of how bad an NN is at predicting what it is intended to predict. It could be calculated in an infinite number of ways. One example is adding up the absolute distances from each predicted point to its true, correct point. As long as the cost is higher for bad performance and lower for good performance, along with other requirements like being differentiable, it will work to some amount of success.\r\n",
        "\r\n",
        "What machine learning will do is, given how the NN performed with certain parameters, is update the parameters such that, ideally, it will perform better next time. The way that parameters are updated changes based on what method is being used and what cost function is in place. It typically involves differentiation of the cost function with respect to each parameter. To learn more about how exactly this works, I reccomend [this video](https://www.youtube.com/watch?v=Ilg3gGewQ5U&t=358s&ab_channel=3Blue1Brown) after finishing this notebook. For now, let us simply assume that there exists a way of determining how to change the parameters such that the next trial of the neural network will likely have better results.\r\n",
        "\r\n",
        "After my computer determines and sets these new parameter values for my NN, it tests itself again, repeating the process of updating parameters utill I tell it to stop. This process of iteratively updating the parameters based on already known data is called \"fitting\" a neural network to or \"Training\" a neural network on data.\r\n",
        "\r\n",
        "Now, lets create and train this neural network to find a number's successor ourself.\r\n",
        "\r\n",
        "Terminology: Because a neural network *models* some phenomena, a neural network is often called a *model*."
      ]
    },
    {
      "cell_type": "markdown",
      "metadata": {
        "id": "84-3YNojDi4a"
      },
      "source": [
        "# Creating a 'Successor' Neural Network\r\n",
        "\r\n"
      ]
    },
    {
      "cell_type": "code",
      "metadata": {
        "id": "SptKOJLhDsJV"
      },
      "source": [
        "# IMPORTS\r\n",
        "# We will be using the Keras Tensorflow API to create and train a neural network.\r\n",
        "\r\n",
        "# First, import the required libraries for creating our model.\r\n",
        "from tensorflow.keras.layers import Dense\r\n",
        "from tensorflow.keras.models import Sequential\r\n",
        "from tensorflow.keras import Input\r\n",
        "\r\n",
        "# This import is only for making graphs to visualize our model.\r\n",
        "from matplotlib import pyplot as plt"
      ],
      "execution_count": null,
      "outputs": []
    },
    {
      "cell_type": "code",
      "metadata": {
        "id": "LGLgjCH3EvBK"
      },
      "source": [
        "# CREATE DATA\r\n",
        "# In order for our NN to learn how to predict a number's sucessor, we need to\r\n",
        "# provide some example pairs of numbers and their successors.\r\n",
        "\r\n",
        "x = [i for i in range(1,10001)] # an array of numbers from 1 to 10000 (inclusive)\r\n",
        "y = [i + 1 for i in x] # for each i in [1,10000], y[i] = x[i] + 1"
      ],
      "execution_count": null,
      "outputs": []
    },
    {
      "cell_type": "code",
      "metadata": {
        "id": "CyxkmMI-FWb0"
      },
      "source": [
        "# CREATE MODEL'S GRAPH/ARCHITECTURE\r\n",
        "# Remember that the model we are creating has two nodes: input and output.\r\n",
        "# The two nodes are also aranged in a sequential fassion--one after the other.\r\n",
        "\r\n",
        "# So, we start by making a \"Sequential\" model\r\n",
        "model = Sequential()\r\n",
        "\r\n",
        "# The model should have two nodes with one connection between the nodes.\r\n",
        "# In other terms, our model will have two layers with one node per layer\r\n",
        "# and all values in the first layer being passed into the all nodes in the second.\r\n",
        "\r\n",
        "# The input of our model is one value, so it has the shape (1,) which means that\r\n",
        "# it will take 1 dimensional vectors.\r\n",
        "# Setting the shape to (k,) is the same as saying that the model will have k\r\n",
        "# input nodes \r\n",
        "model.add(Input(shape = (1,)))\r\n",
        "\r\n",
        "# To get the behavior we want, we use a Dense layer with one node.\r\n",
        "# A Dense node uses an affine function (f(x) = mx + b) when recieving a value\r\n",
        "# from another node (in this case our input)\r\n",
        "# The argument 1 specifies how many nodes are in the layer.\r\n",
        "model.add(Dense(1))\r\n",
        "\r\n",
        "# Because this is our last layer, it will automatically be the output\r\n",
        "\r\n",
        "# Lastly, we must compile the model to determine how it will learn.\r\n",
        "# We will use \"mean squared error\" as a loss function (part of how cost\r\n",
        "# is calculated) and the \"adam\" optimizer.\r\n",
        "model.compile(loss='mse', optimizer='adam')"
      ],
      "execution_count": null,
      "outputs": []
    },
    {
      "cell_type": "code",
      "metadata": {
        "colab": {
          "base_uri": "https://localhost:8080/"
        },
        "id": "U5K1piD5J16g",
        "outputId": "de937898-d27f-4866-c170-86a1cfe568ea"
      },
      "source": [
        "# TRAIN OUR MODEL\r\n",
        "# We will train our model based on the imput output pairs we created earlier.\r\n",
        "# Epochs are a measure of how many times the model will consider each data pair.\r\n",
        "# Epochs = 1 means our model will be \"fit\" to the data once.\r\n",
        "model.fit(x,y, epochs = 1)\r\n",
        "\r\n",
        "print(model.weights)"
      ],
      "execution_count": null,
      "outputs": [
        {
          "output_type": "stream",
          "text": [
            "313/313 [==============================] - 1s 917us/step - loss: 78917201.7197\n",
            "[<tf.Variable 'dense/kernel:0' shape=(1, 1) dtype=float32, numpy=array([[-0.319684]], dtype=float32)>, <tf.Variable 'dense/bias:0' shape=(1,) dtype=float32, numpy=array([0.29861477], dtype=float32)>]\n"
          ],
          "name": "stdout"
        }
      ]
    },
    {
      "cell_type": "code",
      "metadata": {
        "colab": {
          "base_uri": "https://localhost:8080/",
          "height": 279
        },
        "id": "VPBc_xdyPSWV",
        "outputId": "fa7b0978-aa71-4b15-9eed-5bc5a6fa90ef"
      },
      "source": [
        "# Graph model against real data to gauge its performance\r\n",
        "\r\n",
        "plt.plot(x,y, label = 'Actual')\r\n",
        "plt.plot(x,model.predict(x), label = 'Predicted')\r\n",
        "plt.xlabel('Numbers')\r\n",
        "plt.ylabel('Successor')\r\n",
        "plt.legend()\r\n",
        "\r\n",
        "plt.show()"
      ],
      "execution_count": null,
      "outputs": [
        {
          "output_type": "display_data",
          "data": {
            "image/png": "[encoded data removed]",
            "text/plain": [
              "<Figure size 432x288 with 1 Axes>"
            ]
          },
          "metadata": {
            "tags": [],
            "needs_background": "light"
          }
        }
      ]
    },
    {
      "cell_type": "code",
      "metadata": {
        "colab": {
          "base_uri": "https://localhost:8080/"
        },
        "id": "82kR16QBL1M7",
        "outputId": "18fd49e7-70d6-4fef-d519-9eeef960eb0a"
      },
      "source": [
        "# TEST MODEL\r\n",
        "\r\n",
        "# The model predict continuous values; however, we want integers.\r\n",
        "print(\"Continuous values:\\n\", model.predict([1,2,3,4,5,6,7,8,9]))\r\n",
        "\r\n",
        "print(\"\\n\\n\\nIntegers:\\n\",[1,2,3,4,5,6,7,8,9])\r\n",
        "#So, we round each prediction to its closest integer.\r\n",
        "print(\"\\nInteger Successors:\\n\",[round(i[0]) for i in (model.predict([1,2,3,4,5,6,7,8,9]))])"
      ],
      "execution_count": null,
      "outputs": [
        {
          "output_type": "stream",
          "text": [
            "Continuous values:\n",
            " [[-0.02106923]\n",
            " [-0.34075323]\n",
            " [-0.6604372 ]\n",
            " [-0.98012125]\n",
            " [-1.2998053 ]\n",
            " [-1.6194892 ]\n",
            " [-1.9391732 ]\n",
            " [-2.2588573 ]\n",
            " [-2.5785413 ]]\n",
            "\n",
            "\n",
            "\n",
            "Integers:\n",
            " [1, 2, 3, 4, 5, 6, 7, 8, 9]\n",
            "\n",
            "Integer Successors:\n",
            " [0, 0, -1, -1, -1, -2, -2, -2, -3]\n"
          ],
          "name": "stdout"
        }
      ]
    },
    {
      "cell_type": "code",
      "metadata": {
        "id": "CMVNpdMhQEKt",
        "colab": {
          "base_uri": "https://localhost:8080/"
        },
        "outputId": "167b7887-e2aa-4052-970c-2eb76c9422b7"
      },
      "source": [
        "# The model needs more training as it does not accurately predict a\r\n",
        "# numbers successor\r\n",
        "\r\n",
        "model.fit(x,y, epochs = 100)\r\n",
        "\r\n",
        "print(model.weights)\r\n",
        "\r\n",
        "# NOTE: Usually, a the number of epochs is much smaller than 100 (making it that\r\n",
        "# high might actually hurt your models performance). Because we are fitting our\r\n",
        "# model to an elementry math function and there is a large range of outputs,\r\n",
        "# its behavior is atypical"
      ],
      "execution_count": null,
      "outputs": [
        {
          "output_type": "stream",
          "text": [
            "Epoch 1/100\n",
            "313/313 [==============================] - 0s 913us/step - loss: 46979880.0000\n",
            "Epoch 2/100\n",
            "313/313 [==============================] - 0s 871us/step - loss: 29206564.0000\n",
            "Epoch 3/100\n",
            "313/313 [==============================] - 0s 1ms/step - loss: 17050720.0000\n",
            ".............................................................................\n",
            ".............................................................................\n",
            "Epoch 98/100\n",
            "313/313 [==============================] - 0s 954us/step - loss: 3.3895e-06\n",
            "Epoch 99/100\n",
            "313/313 [==============================] - 0s 935us/step - loss: 6.8086e-05\n",
            "Epoch 100/100\n",
            "313/313 [==============================] - 0s 853us/step - loss: 0.2389\n",
            "[<tf.Variable 'dense/kernel:0' shape=(1, 1) dtype=float32, numpy=array([[0.9999996]], dtype=float32)>, <tf.Variable 'dense/bias:0' shape=(1,) dtype=float32, numpy=array([1.002709], dtype=float32)>]\n"
          ],
          "name": "stdout"
        }
      ]
    },
    {
      "cell_type": "code",
      "metadata": {
        "colab": {
          "base_uri": "https://localhost:8080/",
          "height": 279
        },
        "id": "08V4kALbRMYz",
        "outputId": "b443b52d-eb4c-49a4-b721-88462e12223f"
      },
      "source": [
        "# Graph model against real data to gauge its performance\r\n",
        "\r\n",
        "plt.plot(x,y, label = 'Actual')\r\n",
        "plt.plot(x,model.predict(x), label = 'Predicted')\r\n",
        "plt.xlabel('Numbers')\r\n",
        "plt.ylabel('Successor')\r\n",
        "plt.legend()\r\n",
        "\r\n",
        "plt.show()"
      ],
      "execution_count": null,
      "outputs": [
        {
          "output_type": "display_data",
          "data": {
            "image/png": "[encoded data removed]",
            "text/plain": [
              "<Figure size 432x288 with 1 Axes>"
            ]
          },
          "metadata": {
            "tags": [],
            "needs_background": "light"
          }
        }
      ]
    },
    {
      "cell_type": "code",
      "metadata": {
        "colab": {
          "base_uri": "https://localhost:8080/"
        },
        "id": "16YfLr8KREp1",
        "outputId": "f57f65ba-b547-4db3-dee2-860740c61800"
      },
      "source": [
        "# TEST MODEL\r\n",
        "\r\n",
        "# The model predict continuous values; however, we want integers.\r\n",
        "print(\"Continuous values:\\n\", model.predict([1,2,3,4,5,6,7,8,9,100]))\r\n",
        "\r\n",
        "print(\"\\n\\n\\nIntegers:\\n\",[1,2,3,4,5,6,7,8,9,100])\r\n",
        "#So, we round each prediction to its closest integer.\r\n",
        "print(\"\\nInteger Successors:\\n\",[round(i[0]) for i in (model.predict([1,2,3,4,5,6,7,8,9,100]))])"
      ],
      "execution_count": null,
      "outputs": [
        {
          "output_type": "stream",
          "text": [
            "Continuous values:\n",
            " [[  2.0027087]\n",
            " [  3.0027082]\n",
            " [  4.002708 ]\n",
            " [  5.0027075]\n",
            " [  6.002707 ]\n",
            " [  7.0027065]\n",
            " [  8.002707 ]\n",
            " [  9.002706 ]\n",
            " [ 10.002706 ]\n",
            " [101.00267  ]]\n",
            "\n",
            "\n",
            "\n",
            "Integers:\n",
            " [1, 2, 3, 4, 5, 6, 7, 8, 9, 100]\n",
            "\n",
            "Integer Successors:\n",
            " [2, 3, 4, 5, 6, 7, 8, 9, 10, 101]\n"
          ],
          "name": "stdout"
        }
      ]
    },
    {
      "cell_type": "code",
      "metadata": {
        "id": "JY1bK26GRXUj"
      },
      "source": [
        "# That is all!\r\n",
        "# We have trained a neural network to know what the successor to an integer is."
      ],
      "execution_count": null,
      "outputs": []
    },
    {
      "cell_type": "markdown",
      "metadata": {
        "id": "XMgpVKuyRoZw"
      },
      "source": [
        "# A More Complex Model"
      ]
    },
    {
      "cell_type": "markdown",
      "metadata": {
        "id": "RHqq-aUSR6fA"
      },
      "source": [
        "The model we described and then created was very basic. Of course a computer can learn to approximate a simple algebraic function.\r\n",
        "\r\n",
        "How about we train one to classify images?\r\n",
        "\r\n",
        "---\r\n",
        "**Classification**\r\n",
        "\r\n",
        ">*Classification is where a neural network takes in some data, whatever it may be, and assigns it to a one or more classes.* \r\n",
        "\r\n",
        "An example might be a neural network in a self-driving car to regognize what is extant in front of a car. The car would take images and send them to the NN; the NN would then classify/label the images (e.g. NN(img) -> Person & Car & Tree).\r\n",
        "\r\n",
        "Before we get into crafting a model, let us first advance our understanding of neural network architecture.\r\n",
        "\r\n",
        "---\r\n",
        "\r\n",
        "**A Second look at Neural Networks**\r\n",
        "\r\n",
        "For our last model, the one to determind a number's successor, it had only two nodes and one connection between them. That was a very simple example. \r\n",
        "\r\n",
        "Typically, there will be more than one node in a layer.\r\n",
        "\r\n",
        "![picture](https://drive.google.com/uc?id=1YggPrM5IQzee_YLMYp8098i2LS0Lk60E)\r\n",
        "\r\n",
        "Before, the output was the result of the input * m + b. Now, the output is equal to the sum of the each input multiplied by an associated weight (w), all added to some bias (b). \r\n",
        "\r\n",
        "Lets say both weights equal 2 and the bias equals 10. If [3,5] was input to the neural network, I_0 becomes 3 and I_1 becomes 5. Consequently, the output equals 2 * 3 + 2 * 5 + 10 = 26.\r\n",
        "\r\n",
        "The above NN can only learn linear functions. That means that each input will be mapped proportionately to an output.\r\n",
        "\r\n",
        "To fix this problem, NNs almost alwas use non-linear activation functions.\r\n",
        "\r\n",
        "\r\n",
        "![picture](https://drive.google.com/uc?id=1spKSSxw2VJ3NvL2ycW_XYD3kJt0D2W2O)\r\n",
        "\r\n",
        "An activation function takes the value of a node and modifies it. One activation function could be a(x) = 1/x. Implementing an activation function to the input layer, this would make the ouput instead equal w_0 * a(I_0) + w_1 * a(I_1) + b. a(I_0) is called I_0's *activation*. Typically, activation nodes, the small ones in my diagram, are not drawn but instead assumed.\r\n",
        "\r\n",
        "By adding more nodes and more layers, assuming a non-linear activation function is implemented, neural networks can approximate any math function.\r\n",
        "\r\n",
        "All layers of a neural network aside from the input and output layers are labeled as hidden layers because a user of a trained model does not need to know anything about the hidden layers.\r\n",
        "\r\n",
        "![picture](https://drive.google.com/uc?id=1OY438avjFrEXZGTPBfVOaNT5J7ah0Rdf)\r\n",
        "\r\n",
        "All layers behave the same. The value of each node in the hidden layer is calculated the same way the output was calculated before. Each node in layer N + 1 is Σ(w_i*(a_i)) + b. Where a_i is the i-th activation of layer N (i.e. (a([N-th layer node]_i))).\r\n",
        "\r\n",
        "---\r\n",
        "\r\n",
        "**Classification**\r\n",
        "\r\n",
        "I want to create a neural network to identify what number is contained in an image file like the one below.\r\n",
        "\r\n",
        "![picture](https://drive.google.com/uc?id=1E3TMwJsOAX_1rH50eVfXNS8tsJ8SriVm)\r\n",
        "\r\n",
        "The goal is that by training a neural network on a large number of pre-labeled examples, it can learn how to identify hand writen digits without the digits being labeled. This process is similar to how a child might learn the numeral of any given digit. A child is not indoctrinated with a mathematical formula for parsing image data such that he or she can see the numeral for '2' and then identify it as such; a child learns the numeral for '2' by seeing a large amount of examples and being told \"this is a two.\"\r\n",
        "\r\n",
        "For the learning process, I will feed an image to my model and then compare its guess to what the correct label is, chastising the model if it guesses wrong.\r\n",
        "\r\n",
        "The first step is to quantify my input. Just as math can not directly be done on \"one\" and \"two\", neither can math be done on a PNG file without first quantifying. Because the images I will be using are 28x28 and in greyscale, meaning each pixel is defined by a brightness on [0-255], an image will be represented by a two dimensional array with dimensions 28x28 and each index holding a value between 0 and 255.\r\n",
        "\r\n",
        "```\r\n",
        "# 2D array with 28 rows and 28 columns\r\n",
        "two = [[0,0, 0, 0... 0,0],\r\n",
        "       [0,0,103,82.. 0,0],\r\n",
        "       .................. \r\n",
        "       [0,12,57,0... 0,0],\r\n",
        "       [0,0,103,82.. 0,0]]\r\n",
        "```\r\n",
        "\r\n",
        "For the models covered here, the input is always 1D array, so I will flatten it such that each pixel becomes an index in one big vector.\r\n",
        "\r\n",
        "\r\n",
        "```\r\n",
        "# 1D array with 28^2 = 784 indices\r\n",
        "two = [0,0,0,0,0,0... 38,58,0... 242,0,0,0]\r\n",
        "```\r\n",
        "\r\n",
        "For purposes of imporving the models ability to train, inputs are typically normalized to all be withing the range of 0-1, -1 to 1, or some other small range. To do this for my data, I can simply divide each number by 255, leading to every value ranging between 0 and 1.\r\n",
        "\r\n",
        "With the images now quantified, mathematic relationships can be detected through machine learning. The model might deduce that when pixel 90 is very bright, it is likely that '7' was drawn.\r\n",
        "\r\n",
        "To have my model guess a number based on the input, I could have it oneput a single number. There are problems with this. There are only 10 valid guesses, [0, 9], and if the model where to guess a single number, it has an near infinite number of possible outputs. Additionaly, if the correct answer was '3' and the model guessed wrong, it would be punished more harshely for outputing '8' than '1'. This does not make sense as guessing a wrong number is no more correct if it is additively close. \r\n",
        "\r\n",
        "As an alternative, and what is almost always done is cases such as these, I will set my model to have ten output nodes, where each node represents a number on [0,9]. Whichever output node contains the largest value can be considered to be the model's guess.\r\n",
        "\r\n",
        "Having ten output nodes means that the model expects to see vectors with 10 elements as example labels/outputs. Numbers will be encoded such that all values in a vector will be '0' except for the index corresponding to the number.This type is encoding is called *one hot encoding*.\r\n",
        "\r\n",
        "```\r\n",
        "# How 0 is encoded\r\n",
        "[1,0,0,0,0,0,0,0,0,0]\r\n",
        "\r\n",
        "# How 6 is encoded\r\n",
        "[0,0,0,0,0,0,1,0,0,0]\r\n",
        "```\r\n",
        "\r\n",
        "For the model to gauge how well it guessed, it will compare its output to the correct output. For this model, it only really makes sinse for it to have values between 0 and 1 in its output. To ensure it has this, I will use an activation function called \"softmax\" which not only ensures all outputs are between 0 and 1, but also that all outputs add up to 1. All outputs adding to one has the added benefit that each number in the ouput vector can be interpreted as a probability (all probabilities should add to be 1).\r\n",
        "\r\n",
        "```\r\n",
        "# An image with '1' drawn on it is input\r\n",
        "\r\n",
        "# What the model predicts\r\n",
        "[0.1,0.2,0,0,0.3,0.1,0.1,0,0.1,0.1]\r\n",
        "\r\n",
        "# What the correct output is\r\n",
        "[0,1,0,0,0,0,0,0,0,0]\r\n",
        "\r\n",
        "# The the machine learning process compares the two vectors\r\n",
        "\r\n",
        "[0.1,0.2,0,0,0.3,0.1,0.1,0,0.1,0.1]\r\n",
        "[0,1,0,0,0,0,0,0,0,0]\r\n",
        "\r\n",
        "# It sees that indices 0,4,5,6,8,9 should have been lower and\r\n",
        "# index 1 should have been higher.\r\n",
        "# Through backpropagation, parameters are changed such that the model should\r\n",
        "# guess better next time\r\n",
        "```\r\n",
        "\r\n",
        "After my model has learned from thousands of examples, I can evaluate how accurately it labels numbers. I might be tempted to evaluate by seeing how well it labels images from the data on which I trained the model, but that would be cheating. The goal of creating a neural network is not to correctly identify the data on which I trained it, but for the NN to correctly identify never-before-seen images. When evaluating the model on the data which trained it, the model could have simple \"memorized\" the specific examples (in the event that this occurs, the model is said to have *overfit* to the data).\r\n",
        "\r\n",
        "So, to evaluate my model, I test in on a data set it has never seen before.\r\n",
        "\r\n",
        "That is the basics of classification. Let us now code the very classification model I have described above.\r\n"
      ]
    },
    {
      "cell_type": "markdown",
      "metadata": {
        "id": "ZeTUBFzBjo2R"
      },
      "source": [
        "# Creating a Classification Neural Network"
      ]
    },
    {
      "cell_type": "code",
      "metadata": {
        "id": "yHAppWoPjwNy"
      },
      "source": [
        "# IMPORTS\r\n",
        "# We will be using the Keras Tensorflow API to create and train a neural network.\r\n",
        "\r\n",
        "# First, import the required libraries for creating our \r\n",
        "from tensorflow.keras.layers import Dense\r\n",
        "from tensorflow.keras.models import Sequential\r\n",
        "from tensorflow.keras import Input\r\n",
        "from tensorflow.keras.datasets import mnist\r\n",
        "\r\n",
        "# For easier handling of arrays, import numpy\r\n",
        "import numpy as np\r\n",
        "\r\n",
        "# This import is only for displaying graphics\r\n",
        "from matplotlib import pyplot as plt"
      ],
      "execution_count": null,
      "outputs": []
    },
    {
      "cell_type": "code",
      "metadata": {
        "id": "kTp634TOkA-F"
      },
      "source": [
        "# LOAD DATA\r\n",
        "# Load mnist data set. It contains 60,000 training and 10,000 testing examples\r\n",
        "# of labeled hand drawn digits represented in 28*28 arrays.\r\n",
        "(x_train, y_train), (x_test, y_test) = mnist.load_data()\r\n",
        "\r\n",
        "# Normalize data to all be in the range of 0 to 1\r\n",
        "x_train = x_train/255.0\r\n",
        "x_test = x_test/255.0\r\n",
        "\r\n",
        "# We will later flatten the data to be a 1D arrray."
      ],
      "execution_count": null,
      "outputs": []
    },
    {
      "cell_type": "code",
      "metadata": {
        "id": "7OmHG7xglMt1"
      },
      "source": [
        "# ONE HOT ENCODE\r\n",
        "# Define function to one hot encode labels\r\n",
        "def to_one_hot(array):\r\n",
        "  new_array = np.zeros(shape = (array.shape[0], 10))\r\n",
        "\r\n",
        "  for i, num in enumerate(array):\r\n",
        "    one_hot_vector = np.zeros(10)\r\n",
        "    one_hot_vector[num] = 1\r\n",
        "    new_array[i] = one_hot_vector\r\n",
        "\r\n",
        "  return new_array\r\n",
        "\r\n",
        "# One hot encode labels\r\n",
        "# 1 -> [0,1,0,0,0,0,0,0,0,0], 4 -> [0,0,0,0,1,0,0,0,0,0]\r\n",
        "y_train = to_one_hot(y_train)\r\n",
        "\r\n",
        "y_test = to_one_hot(y_test)"
      ],
      "execution_count": null,
      "outputs": []
    },
    {
      "cell_type": "code",
      "metadata": {
        "id": "LtYm3PnhmhAo"
      },
      "source": [
        "# See first training example and its label \r\n",
        "plt.imshow(x_train[0], cmap='gray')\r\n",
        "print(y_train[0])"
      ],
      "execution_count": null,
      "outputs": []
    },
    {
      "cell_type": "code",
      "metadata": {
        "id": "zsFazkrxnJl1"
      },
      "source": [
        "# DEFINE MODEL ARCHITECTURE\r\n",
        "# Just as in the previous neural network, a sequential model will suffice for \r\n",
        "# our purposes\r\n",
        "model = Sequential()\r\n",
        "\r\n",
        "# The first layer is the input layer\r\n",
        "# Remember, we will be feedint the model flattened 28x28 arras, which are\r\n",
        "# 1D 28^2 = 784 element arrays.\r\n",
        "# Hence, we need 784 input nodes.\r\n",
        "model.add(Input(shape = (784,)))\r\n",
        "\r\n",
        "# Now we define our hidden layers.\r\n",
        "# There is no obviously 'correct' number of nodes per layer or even\r\n",
        "# number of layers to use.\r\n",
        "# I arbitrarily chose two hidden layers with 16 nodes in each\r\n",
        "# For the activation function, we need to use something non-linear.\r\n",
        "# The state-of-the-art default choice for an activation function is\r\n",
        "# rectified linear (or 'relu')\r\n",
        "# Sidenote: relu(x) = max(0,x)\r\n",
        "# 'sigmoid' or 'tanh' are other common options\r\n",
        "\r\n",
        "# When passing the activation argument into a layer, think of it as\r\n",
        "# creating an \"activation layer\" between the current layer and the next\r\n",
        "\r\n",
        "model.add(Dense(16, activation = 'relu'))\r\n",
        "\r\n",
        "model.add(Dense(16, activation = 'relu'))\r\n",
        "\r\n",
        "# To classify an image, we will create 10 output nodes with a 'softmax'\r\n",
        "# activation function.\r\n",
        "# The softmax activation function ensures that all outputs will be on [0,1]\r\n",
        "# and that the ouputs sum to 1\r\n",
        "\r\n",
        "model.add(Dense(10, activation='softmax'))\r\n",
        "\r\n",
        "# Now we compile the model to define how it learns by setting a loss function\r\n",
        "# and optimizer\r\n",
        "# For classification problems, we want to use 'categorical_crossentropy'\r\n",
        "# It is used as a loss function when there are more than two classes being\r\n",
        "# predicted.\r\n",
        "\r\n",
        "# 'metrics' defines what metrics are displayed while training and what metrics\r\n",
        "# will be stored in the even that someone wishes to analise the models history\r\n",
        "model.compile(loss='categorical_crossentropy', optimizer ='adam',\r\n",
        "              metrics =['accuracy'])\r\n"
      ],
      "execution_count": null,
      "outputs": []
    },
    {
      "cell_type": "code",
      "metadata": {
        "colab": {
          "base_uri": "https://localhost:8080/"
        },
        "id": "ioMRTSJxq0cZ",
        "outputId": "cf068c18-1cff-4ba7-f863-2598cfba0177"
      },
      "source": [
        "# TRAIN MODEL\r\n",
        "# We pass in our training data.\r\n",
        "# x_train currently has the shape (60000, 28,28), but we want to each example\r\n",
        "# to be flat so we reshape it to be (60000, 784).\r\n",
        "\r\n",
        "# 'batch_size' determines how many examples the model considers before updating\r\n",
        "# its parameters.\r\n",
        "# There are costs and benifits to both larger and smaller batch sizes.\r\n",
        "\r\n",
        "# Remember, the model considers the whole dataset 'epochs' number of times.\r\n",
        "\r\n",
        "model.fit(x_train.reshape(60000, 784), y_train, batch_size = 32, epochs = 3)"
      ],
      "execution_count": null,
      "outputs": [
        {
          "output_type": "stream",
          "text": [
            "Epoch 1/3\n",
            "1875/1875 [==============================] - 3s 1ms/step - loss: 0.7301 - accuracy: 0.7834\n",
            "Epoch 2/3\n",
            "1875/1875 [==============================] - 3s 1ms/step - loss: 0.2606 - accuracy: 0.9245\n",
            "Epoch 3/3\n",
            "1875/1875 [==============================] - 3s 1ms/step - loss: 0.2193 - accuracy: 0.9372\n"
          ],
          "name": "stdout"
        },
        {
          "output_type": "execute_result",
          "data": {
            "text/plain": [
              "<tensorflow.python.keras.callbacks.History at 0x7f2b5bdfd3c8>"
            ]
          },
          "metadata": {
            "tags": []
          },
          "execution_count": 19
        }
      ]
    },
    {
      "cell_type": "code",
      "metadata": {
        "colab": {
          "base_uri": "https://localhost:8080/"
        },
        "id": "d3LqdTjZsPPm",
        "outputId": "d503d672-efa6-49c8-9603-d7062bd25dd5"
      },
      "source": [
        "# To see how well the model predicts on a new data set, we evaluate\r\n",
        "# on the testing set of data\r\n",
        "\r\n",
        "model.evaluate(x_test.reshape(-1, 784), y_test)"
      ],
      "execution_count": null,
      "outputs": [
        {
          "output_type": "stream",
          "text": [
            "313/313 [==============================] - 0s 975us/step - loss: 0.1982 - accuracy: 0.9434\n"
          ],
          "name": "stdout"
        },
        {
          "output_type": "execute_result",
          "data": {
            "text/plain": [
              "[0.19818450510501862, 0.9434000253677368]"
            ]
          },
          "metadata": {
            "tags": []
          },
          "execution_count": 20
        }
      ]
    },
    {
      "cell_type": "code",
      "metadata": {
        "colab": {
          "base_uri": "https://localhost:8080/",
          "height": 445
        },
        "id": "7lKLVZ9Ctk6C",
        "outputId": "366dac83-958e-4864-d710-ea59a39b47e1"
      },
      "source": [
        "# LET'S OBSERVE THE MODEL OURSELF\r\n",
        "# Change the value of 'INDEX' to check differnt example\r\n",
        "# Values between 0 and 9999 will work\r\n",
        "INDEX = 23\r\n",
        "\r\n",
        "\r\n",
        "print('Predicted:', model.predict(x_test[INDEX:INDEX+1].reshape((-1,784))), '\\n But that is kind of hard to read...')\r\n",
        "\r\n",
        "print('\\n\\n\\nPredicted:', model.predict(x_test[INDEX:INDEX+1].reshape((-1,784))).argmax(), '\\n The numpy array function \".argmax()\" returns the index with the highest value')\r\n",
        "\r\n",
        "plt.imshow(x_test[INDEX])"
      ],
      "execution_count": null,
      "outputs": [
        {
          "output_type": "stream",
          "text": [
            "Predicted: [[6.46694243e-05 4.80261224e-05 5.79977524e-04 1.07200474e-04\n",
            "  1.76927529e-03 9.65427935e-01 3.07909083e-02 9.57631642e-07\n",
            "  1.17762678e-03 3.33895987e-05]] \n",
            " But that is kind of hard to read...\n",
            "\n",
            "\n",
            "\n",
            "Predicted: 5 \n",
            " The numpy array function \".argmax()\" returns the index with the highest value\n"
          ],
          "name": "stdout"
        },
        {
          "output_type": "execute_result",
          "data": {
            "text/plain": [
              "<matplotlib.image.AxesImage at 0x7f2b5a31c1d0>"
            ]
          },
          "metadata": {
            "tags": []
          },
          "execution_count": 22
        },
        {
          "output_type": "display_data",
          "data": {
            "image/png": "[encoded data removed]",
            "text/plain": [
              "<Figure size 432x288 with 1 Axes>"
            ]
          },
          "metadata": {
            "tags": [],
            "needs_background": "light"
          }
        }
      ]
    },
    {
      "cell_type": "markdown",
      "metadata": {
        "id": "y66yaJhACdxr"
      },
      "source": [
        "Notebook and its contained images created by Joshua Zingale"
      ]
    }
  ]
}
